{
 "cells": [
  {
   "cell_type": "markdown",
   "metadata": {},
   "source": [
    "First step is always to import the needed modules"
   ]
  },
  {
   "cell_type": "code",
   "execution_count": 4,
   "metadata": {
    "ExecuteTime": {
     "end_time": "2020-07-20T15:49:27.863177Z",
     "start_time": "2020-07-20T15:49:27.856412Z"
    }
   },
   "outputs": [],
   "source": [
    "import os\n",
    "import mne"
   ]
  },
  {
   "cell_type": "markdown",
   "metadata": {},
   "source": [
    "## Importing data from a .set dataset"
   ]
  },
  {
   "cell_type": "markdown",
   "metadata": {
    "ExecuteTime": {
     "end_time": "2020-07-20T01:21:45.493267Z",
     "start_time": "2020-07-20T01:21:45.488992Z"
    }
   },
   "source": [
    "Based on https://mne.tools/stable/auto_tutorials/io/plot_20_reading_eeg_data.html#sphx-glr-auto-tutorials-io-plot-20-reading-eeg-data-py\n",
    "\n",
    "MNE offers two distinct packages to read an EEGLAB .set file:\n",
    "* Reader function for EEGLAB .set files (raw data) : https://mne.tools/stable/generated/mne.io.read_raw_eeglab.html#mne.io.read_raw_eeglab\n",
    "\n",
    "* Reader function for EEGLAB epochs files. : https://mne.tools/stable/generated/mne.read_epochs_eeglab.html#mne.read_epochs_eeglab\n",
    "\n",
    "Data from the lab is preprocessed and epoched, so we'll continue with the mne.read_epochs_eeglab() function"
   ]
  },
  {
   "cell_type": "code",
   "execution_count": 8,
   "metadata": {
    "ExecuteTime": {
     "end_time": "2020-07-20T15:50:00.197831Z",
     "start_time": "2020-07-20T15:50:00.090344Z"
    }
   },
   "outputs": [
    {
     "name": "stdout",
     "output_type": "stream",
     "text": [
      "Reading Data/MDFA03_ec_1.fdt\n"
     ]
    },
    {
     "name": "stderr",
     "output_type": "stream",
     "text": [
      "<ipython-input-8-3de07bb95905>:2: RuntimeWarning: Data file name in EEG.data (MDFA03 eyes closed 1.fdt) is incorrect, the file name must have changed on disk, using the correct file name (MDFA03_ec_1.fdt).\n",
      "  raw = mne.io.read_raw_eeglab('Data/MDFA03_ec_1.set')\n",
      "<ipython-input-8-3de07bb95905>:2: RuntimeWarning: Limited 1 annotation(s) that were expanding outside the data range.\n",
      "  raw = mne.io.read_raw_eeglab('Data/MDFA03_ec_1.set')\n",
      "<ipython-input-8-3de07bb95905>:2: RuntimeWarning: The data contains 'boundary' events, indicating data discontinuities. Be cautious of filtering and epoching around these events.\n",
      "  raw = mne.io.read_raw_eeglab('Data/MDFA03_ec_1.set')\n"
     ]
    }
   ],
   "source": [
    "# data = mne.read_epochs_eeglab('Data/MDFA03_ec_1.set')\n",
    "raw = mne.io.read_raw_eeglab('Data/MDFA03_ec_1.set')"
   ]
  },
  {
   "cell_type": "markdown",
   "metadata": {},
   "source": [
    "If you're working with epoched data, here's the documentation https://mne.tools/stable/generated/mne.read_epochs_eeglab.html"
   ]
  },
  {
   "cell_type": "code",
   "execution_count": 3,
   "metadata": {
    "ExecuteTime": {
     "end_time": "2020-07-18T15:26:36.819662Z",
     "start_time": "2020-07-18T15:26:36.578000Z"
    }
   },
   "outputs": [],
   "source": [
    "sample_data_folder = mne.datasets.sample.data_path()\n",
    "sample_data_raw_file = os.path.join(sample_data_folder, 'MEG', 'sample','sample_audvis_raw.fif')\n",
    "raw = mne.io.read_raw_fif(sample_data_raw_file, verbose=False).crop(tmax=60)"
   ]
  },
  {
   "cell_type": "code",
   "execution_count": 4,
   "metadata": {
    "ExecuteTime": {
     "end_time": "2020-07-18T15:26:53.354659Z",
     "start_time": "2020-07-18T15:26:53.223795Z"
    }
   },
   "outputs": [
    {
     "name": "stdout",
     "output_type": "stream",
     "text": [
      "86 events found\n",
      "Event IDs: [ 1  2  3  4  5 32]\n"
     ]
    }
   ],
   "source": [
    "events = mne.find_events(raw, stim_channel='STI 014')"
   ]
  },
  {
   "cell_type": "markdown",
   "metadata": {},
   "source": [
    "## Visualize the cleaned EEG data loaded into MNE-Python construct"
   ]
  },
  {
   "cell_type": "markdown",
   "metadata": {},
   "source": [
    "## Frequency analysis"
   ]
  },
  {
   "cell_type": "markdown",
   "metadata": {},
   "source": [
    "https://mne.tools/stable/auto_tutorials/time-freq/plot_sensors_time_frequency.html#sphx-glr-auto-tutorials-time-freq-plot-sensors-time-frequency-py"
   ]
  },
  {
   "cell_type": "code",
   "execution_count": 6,
   "metadata": {
    "ExecuteTime": {
     "end_time": "2020-07-18T15:30:09.369268Z",
     "start_time": "2020-07-18T15:30:09.363925Z"
    }
   },
   "outputs": [],
   "source": [
    "#check out all channel types by averaging across epochs.\n",
    "#epochs.plot_psd(fmin=2., fmax=40., average=True, spatial_colors=False)"
   ]
  },
  {
   "cell_type": "code",
   "execution_count": null,
   "metadata": {},
   "outputs": [],
   "source": [
    "#Now let’s take a look at the spatial distributions of the PSD.\n",
    "#epochs.plot_psd_topomap(ch_type='grad', normalize=True)"
   ]
  },
  {
   "cell_type": "markdown",
   "metadata": {},
   "source": [
    "## Calculate a topographic map on the cut and filtered EEG"
   ]
  },
  {
   "cell_type": "markdown",
   "metadata": {},
   "source": [
    "## Run a spectrogram on the cut and filtered EEG data "
   ]
  },
  {
   "cell_type": "markdown",
   "metadata": {},
   "source": [
    "## Run a windowing on the EEG data "
   ]
  },
  {
   "cell_type": "code",
   "execution_count": null,
   "metadata": {},
   "outputs": [],
   "source": []
  }
 ],
 "metadata": {
  "kernelspec": {
   "display_name": "Python 3",
   "language": "python",
   "name": "python3"
  },
  "language_info": {
   "codemirror_mode": {
    "name": "ipython",
    "version": 3
   },
   "file_extension": ".py",
   "mimetype": "text/x-python",
   "name": "python",
   "nbconvert_exporter": "python",
   "pygments_lexer": "ipython3",
   "version": "3.7.7"
  },
  "toc": {
   "base_numbering": 1,
   "nav_menu": {},
   "number_sections": true,
   "sideBar": true,
   "skip_h1_title": false,
   "title_cell": "Table of Contents",
   "title_sidebar": "Contents",
   "toc_cell": false,
   "toc_position": {},
   "toc_section_display": true,
   "toc_window_display": false
  }
 },
 "nbformat": 4,
 "nbformat_minor": 4
}
